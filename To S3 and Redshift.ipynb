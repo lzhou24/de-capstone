{
 "cells": [
  {
   "cell_type": "code",
   "execution_count": 1,
   "metadata": {},
   "outputs": [],
   "source": [
    "import pandas as pd\n",
    "import numpy as np\n",
    "import boto3\n",
    "import requests\n",
    "import json\n",
    "import configparser\n",
    "import psycopg2\n",
    "\n",
    "import awswrangler as wr\n",
    "import redshift_connector"
   ]
  },
  {
   "cell_type": "code",
   "execution_count": 2,
   "metadata": {},
   "outputs": [],
   "source": [
    "import sql_statements"
   ]
  },
  {
   "cell_type": "markdown",
   "metadata": {},
   "source": [
    "### Get Credentials and S3 Client"
   ]
  },
  {
   "cell_type": "code",
   "execution_count": 3,
   "metadata": {},
   "outputs": [
    {
     "data": {
      "text/plain": [
       "['dwh.cfg']"
      ]
     },
     "execution_count": 3,
     "metadata": {},
     "output_type": "execute_result"
    }
   ],
   "source": [
    "config = configparser.ConfigParser()\n",
    "config.read('dwh.cfg')"
   ]
  },
  {
   "cell_type": "code",
   "execution_count": 4,
   "metadata": {},
   "outputs": [],
   "source": [
    "s3 = boto3.resource('s3', \n",
    "                    aws_access_key_id = config['S3']['AWS_ACCESS_KEY_ID'], \n",
    "                    aws_secret_access_key = config['S3']['AWS_SECRET_ACCESS_KEY'])\n",
    "s3_client = boto3.client('s3', \n",
    "                    aws_access_key_id = config['S3']['AWS_ACCESS_KEY_ID'], \n",
    "                    aws_secret_access_key = config['S3']['AWS_SECRET_ACCESS_KEY'])"
   ]
  },
  {
   "cell_type": "markdown",
   "metadata": {},
   "source": [
    "### Download Contest JSON and Upload to S3"
   ]
  },
  {
   "cell_type": "raw",
   "metadata": {},
   "source": [
    "contest_entries = wr.s3.list_objects(\"s3://luz24/dailyfantasy_lol/contest_results/\")\n",
    "contest_ids = set(x.split('.')[0].split('-')[2] for x in contest_entries)"
   ]
  },
  {
   "cell_type": "raw",
   "metadata": {},
   "source": [
    "#Contest Level Data\n",
    "for contest_id in contest_ids:\n",
    "    response = requests.get('https://api.draftkings.com/contests/v1/contests/{}'.format(contest_id), params={'format': 'json'})\n",
    "    json_data = json.loads(response.text)\n",
    "    \n",
    "    s3object = s3.Object('luz24', 'dailyfantasy_lol/contests/contest_{}.json'.format(contest_id))\n",
    "    s3object.put(Body=(bytes(json.dumps(json_data).encode('UTF-8'))))"
   ]
  },
  {
   "cell_type": "markdown",
   "metadata": {},
   "source": [
    "### Get Payout Data and Upload to S3"
   ]
  },
  {
   "cell_type": "raw",
   "metadata": {},
   "source": [
    "local_json = 'payout_temp.json'"
   ]
  },
  {
   "cell_type": "raw",
   "metadata": {},
   "source": [
    "#for contest_id in contest_list:\n",
    "for contest_id in contest_ids:\n",
    "    response = requests.get('https://api.draftkings.com/contests/v1/contests/{}'.format(contest_id), params={'format': 'json'})\n",
    "    json_data = json.loads(response.text)\n",
    "    \n",
    "    try:\n",
    "        for payout in json_data['contestDetail']['payoutSummary']:\n",
    "            for rank in range(payout['minPosition'], payout['maxPosition']+1):\n",
    "                \n",
    "                if 'Cash' in payout['tierPayoutDescriptions']:\n",
    "                    prize_dict = {\n",
    "                        'contestid': json_data['contestDetail']['contestKey'],\n",
    "                        'rank': rank,\n",
    "                        'prize': float(payout['tierPayoutDescriptions']['Cash'].strip('$').replace(',', ''))\n",
    "                }\n",
    "                with open(local_json, 'a') as outfile:\n",
    "                    json.dump(prize_dict, outfile)\n",
    "    except:\n",
    "        print('Failed: ', contest_id)\n",
    "        pass"
   ]
  },
  {
   "cell_type": "raw",
   "metadata": {},
   "source": [
    "bucket = 'luz24'\n",
    "key = 'dailyfantasy_lol/payout/payout.json'#.format(json_data['contestDetail']['contestKey'])\n",
    "s3_client.upload_file(local_json, bucket, key)"
   ]
  },
  {
   "cell_type": "raw",
   "metadata": {},
   "source": []
  },
  {
   "cell_type": "markdown",
   "metadata": {},
   "source": [
    "### Connect to Redshift"
   ]
  },
  {
   "cell_type": "code",
   "execution_count": 5,
   "metadata": {},
   "outputs": [],
   "source": [
    "#conn = psycopg2.connect(\"host={} dbname={} user={} password={} port={}\".format(*config['CLUSTER'].values()))\n",
    "conn = redshift_connector.connect(\n",
    "    host=config['CLUSTER']['HOST'],\n",
    "    database=config['CLUSTER']['DB_NAME'],\n",
    "    user=config['CLUSTER']['DB_USER'],\n",
    "    password=config['CLUSTER']['DB_PASSWORD'],\n",
    " )"
   ]
  },
  {
   "cell_type": "code",
   "execution_count": 6,
   "metadata": {},
   "outputs": [],
   "source": [
    "cur = conn.cursor()"
   ]
  },
  {
   "cell_type": "markdown",
   "metadata": {},
   "source": [
    "###  Create/Clean and Upload Contest Entry"
   ]
  },
  {
   "cell_type": "raw",
   "metadata": {},
   "source": [
    "positions = ['CPT', 'TOP', 'JNG', 'MID', 'ADC', 'SUP', 'TEAM']\n",
    "def players_selection(lineup):\n",
    "    \"\"\"\n",
    "    Convert a string of lineups into one column per position\n",
    "    \"\"\"\n",
    "    \n",
    "    positions_ordered = []\n",
    "    lineup_series = pd.Series(dtype='str')\n",
    "    \n",
    "    #Parse Lineup String\n",
    "    for word in lineup.split():\n",
    "        if word in positions:\n",
    "            positions_ordered.append(word)\n",
    "\n",
    "    #Parse Lineup String\n",
    "    for i, position in enumerate(positions_ordered):\n",
    "        start = lineup.find(position)\n",
    "        if position == positions_ordered[-1]:\n",
    "            end = len(lineup)\n",
    "        else:\n",
    "            end = lineup.find(positions_ordered[i+1])\n",
    "\n",
    "        #key/value pair - Position: Player\n",
    "        lineup_series[position] = lineup[start+len(position):end].strip().lower()\n",
    "        print(lineup_series[position])\n",
    "        \n",
    "    return lineup_series[positions]"
   ]
  },
  {
   "cell_type": "raw",
   "metadata": {},
   "source": [
    "def get_user_entries(entry_name):\n",
    "    \"\"\"\n",
    "    Parse entry_name field into player and number of entries for that player\n",
    "    \"\"\"\n",
    "    \n",
    "    entry_name_split = entry_name.split()\n",
    "    if len(entry_name_split) == 1:\n",
    "        return 1\n",
    "    else:\n",
    "        return entry_name_split[1].split('/')[1].replace(')', '')"
   ]
  },
  {
   "cell_type": "raw",
   "metadata": {},
   "source": [
    "def get_contest_entry_df(contest_entry_path):\n",
    "    \n",
    "    df = wr.s3.read_csv(path = contest_entry_path)\n",
    "    \n",
    "    contest_id = int(str(contest_entry_path).split('.')[0].split('-')[2])\n",
    "    contest_entry_df = df.iloc[:, :6].dropna()\n",
    "    contest_entry_df = contest_entry_df.drop(['TimeRemaining'], axis=1)\n",
    "    contest_entry_df.insert(0, 'contestid', contest_id)\n",
    "    contest_entry_df.columns = ['contestid', 'rank', 'entryid', 'entryname', 'points','lineup']\n",
    "\n",
    "    contest_entry_df['player'] = contest_entry_df['entryname'].apply(lambda x: x.split()[0])\n",
    "    contest_entry_df[positions] = contest_entry_df['lineup'].apply(players_selection)\n",
    "    contest_entry_df = contest_entry_df.rename(columns={'TOP': 'TOPL'})\n",
    "    \n",
    "    contest_entry_df_detail = contest_entry_df.drop(['lineup', 'entryname'], axis=1).sort_values('rank')    \n",
    "    \n",
    "    return contest_entry_df_detail"
   ]
  },
  {
   "cell_type": "raw",
   "metadata": {},
   "source": []
  },
  {
   "cell_type": "raw",
   "metadata": {
    "scrolled": false
   },
   "source": [
    "for contest_entry_path in contest_entries:\n",
    "    \n",
    "    try:\n",
    "        contest_entry_df = get_contest_entry_df(contest_entry_path)\n",
    "\n",
    "        wr.redshift.copy(\n",
    "            df=contest_entry_df,\n",
    "            index=False,\n",
    "            path=\"s3://luz24/dailyfantasy_lol/contest_results/misc/\",\n",
    "            con=conn,\n",
    "            table=\"contestentry\",\n",
    "            schema=\"public\",\n",
    "            iam_role=config.get('IAM_ROLE', 'ARN')\n",
    "        )\n",
    "    except:\n",
    "        print('Failed', contest_entry_path)\n",
    "        pass"
   ]
  },
  {
   "cell_type": "markdown",
   "metadata": {},
   "source": [
    "### Contest"
   ]
  },
  {
   "cell_type": "code",
   "execution_count": null,
   "metadata": {},
   "outputs": [],
   "source": [
    "#CREATE Table\n",
    "cur.execute(sql_statements.contest_table_create)\n",
    "conn.commit()\n",
    "\n",
    "#Upload to Table\n",
    "cur.execute(sql_statements.contest_table_copy)\n",
    "conn.commit()"
   ]
  },
  {
   "cell_type": "markdown",
   "metadata": {},
   "source": [
    "### Payout Table "
   ]
  },
  {
   "cell_type": "code",
   "execution_count": null,
   "metadata": {},
   "outputs": [],
   "source": [
    "cur.execute(sql_statements.payout_table_create)\n",
    "conn.commit()"
   ]
  },
  {
   "cell_type": "code",
   "execution_count": null,
   "metadata": {},
   "outputs": [],
   "source": [
    "cur.execute(sql_statements.payout_table_copy)\n",
    "conn.commit()"
   ]
  },
  {
   "cell_type": "markdown",
   "metadata": {},
   "source": [
    "### Player Lineups"
   ]
  },
  {
   "cell_type": "code",
   "execution_count": null,
   "metadata": {},
   "outputs": [],
   "source": [
    "cur.execute(sql_statements.player_lineups_create)\n",
    "conn.commit()"
   ]
  },
  {
   "cell_type": "code",
   "execution_count": null,
   "metadata": {},
   "outputs": [],
   "source": [
    "cur.execute(sql_statements.player_lineup_insert)\n",
    "conn.commit()"
   ]
  },
  {
   "cell_type": "code",
   "execution_count": 18,
   "metadata": {},
   "outputs": [
    {
     "name": "stdout",
     "output_type": "stream",
     "text": [
      "There are 1771 contests in player_lineup table\n"
     ]
    }
   ],
   "source": [
    "#Data Quality Check\n",
    "\n",
    "player_linup_contests = cur.execute(\"\"\"\n",
    "    SELECT count(distinct contestid)\n",
    "    FROM player_lineup\n",
    "\"\"\").fetchall()[0][0]\n",
    "\n",
    "print(\"There are {} contests in player_lineup table\".format(player_linup_contests))"
   ]
  },
  {
   "cell_type": "markdown",
   "metadata": {},
   "source": [
    "### Player Payout"
   ]
  },
  {
   "cell_type": "code",
   "execution_count": 7,
   "metadata": {},
   "outputs": [],
   "source": [
    "cur.execute(sql_statements.player_payout_create)\n",
    "conn.commit()"
   ]
  },
  {
   "cell_type": "code",
   "execution_count": 8,
   "metadata": {},
   "outputs": [],
   "source": [
    "cur.execute(sql_statements.player_payout_insert)\n",
    "conn.commit()"
   ]
  },
  {
   "cell_type": "code",
   "execution_count": 17,
   "metadata": {},
   "outputs": [
    {
     "name": "stdout",
     "output_type": "stream",
     "text": [
      "There are 1771 contests in player_payout table\n"
     ]
    }
   ],
   "source": [
    "#Data Quality Check\n",
    "\n",
    "player_payout_contests = cur.execute(\"\"\"\n",
    "    SELECT count(distinct contestid)\n",
    "    FROM player_payout\n",
    "\"\"\").fetchall()[0][0]\n",
    "\n",
    "print(\"There are {} contests in player_payout table\".format(player_payout_contests))"
   ]
  },
  {
   "cell_type": "code",
   "execution_count": null,
   "metadata": {},
   "outputs": [],
   "source": []
  }
 ],
 "metadata": {
  "kernelspec": {
   "display_name": "Python 3",
   "language": "python",
   "name": "python3"
  },
  "language_info": {
   "codemirror_mode": {
    "name": "ipython",
    "version": 3
   },
   "file_extension": ".py",
   "mimetype": "text/x-python",
   "name": "python",
   "nbconvert_exporter": "python",
   "pygments_lexer": "ipython3",
   "version": "3.7.6"
  }
 },
 "nbformat": 4,
 "nbformat_minor": 4
}
