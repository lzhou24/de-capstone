{
 "cells": [
  {
   "cell_type": "markdown",
   "metadata": {},
   "source": [
    "## Overview"
   ]
  },
  {
   "cell_type": "markdown",
   "metadata": {},
   "source": [
    "Daily Fantasy Sports (DFS) is a an increasingly popular way of playing fantasy sports.  As DFS became popular, the competition became tougher.  Howeve biggest vendors (such as Draftkings) are offering competition of non-tradition sports.  As a league of legends fan, this project is\n",
    "\n",
    "One of the best ways to improve as a player is to analyze other professional lineups.  This project creates a pipeline that analyzes the 2021 spring split season in order to analyze the performance and lineups of top users."
   ]
  },
  {
   "cell_type": "markdown",
   "metadata": {},
   "source": [
    "## Data Pipeline"
   ]
  },
  {
   "cell_type": "markdown",
   "metadata": {},
   "source": [
    "The data pipeline is for this project is as follows:\n",
    "* Download JSON files from the unofficial draftkings API into S3 directory\n",
    "* Download pasts contests (CSV) from an automated script into S3 directory\n",
    "* Clean and load data into redshift database \n",
    "* Insert relevant tables from staging to production\n",
    "\n",
    "This process can be visualized below\n",
    "![image](dataflow.png)\n",
    "\n"
   ]
  },
  {
   "cell_type": "markdown",
   "metadata": {},
   "source": [
    "## Data Sources"
   ]
  },
  {
   "cell_type": "markdown",
   "metadata": {},
   "source": [
    "### Draftkings API"
   ]
  },
  {
   "cell_type": "markdown",
   "metadata": {},
   "source": [
    "This dataset will include all the information about a contest. It is an unofficial API, and code can be found [here](https://github.com/jaebradley/draftkings_client)"
   ]
  },
  {
   "cell_type": "markdown",
   "metadata": {},
   "source": [
    "#### Drafkings Contest Results"
   ]
  },
  {
   "cell_type": "markdown",
   "metadata": {},
   "source": [
    "This data comes from the actual draftkings contest.  Downloading this data require a draftkings account login, and the contest results are no longer after two weeks after the completion.  I have compiled a list of downloaded files [here](https://s3.console.aws.amazon.com/s3/buckets/luz24?region=us-east-1&prefix=dailyfantasy_lol/contest_results/&showversions=false)"
   ]
  },
  {
   "cell_type": "markdown",
   "metadata": {},
   "source": [
    "## Data Dictionary"
   ]
  },
  {
   "cell_type": "markdown",
   "metadata": {},
   "source": [
    "#### Contest"
   ]
  },
  {
   "cell_type": "markdown",
   "metadata": {},
   "source": [
    "| Column | Type | Description |\n",
    "| ------ | ---- | ----------- |\n",
    "| `contestid` | `int` | Primary Key.  The identifier of a contest |\n",
    "| `draftgroupid` | `int` | Id that is linked to a draftgroup.  Draftgroups are not part of this dataset |\n",
    "| `name` | `varchar(255)` | The name of the draftkings contest |\n",
    "| `entryfee` | `numeric(18,18)` | The entry fee required to enter this contest (USD) |\n",
    "| `entries` | `int` | The total number of entries in this contest |\n",
    "| `maximumentries` | `int` | The total number of entries allowed in this contest |\n",
    "| `maximumentriesperuser` | `int` | The maximum number of entries allowed for a single user in this contest |\n",
    "| `totalpayouts` | `numeric(18,18)` | Total amount of prize of pool available in this contest |\n",
    "| `conteststatedetail` | `numeric(18,18)` | State of the contest.  Can be completed, active, or upcoming. |\n",
    "| `conteststarttime` | `varchar(255)` | The start datetime of the contest |"
   ]
  },
  {
   "cell_type": "markdown",
   "metadata": {},
   "source": [
    "#### player_lineup"
   ]
  },
  {
   "cell_type": "markdown",
   "metadata": {},
   "source": [
    "| Column | Type | Description |\n",
    "| ------ | ---- | ----------- |\n",
    "| `contestid` | `int` | The identifier of a contest.  This is a foreign key to the contest table |\n",
    "| `entryid` | `int` | Primary Key.  Lineup id of the contest. |\n",
    "| `player` | `varchar(255)` | The name of the player or user that entered the contest |\n",
    "| `cpt` | `varchar(255)` | Lineup - Captain selection.  Players from this position are accrued 1.5x fantasy points |\n",
    "| `topl` | `varchar(255)` | Lineup - top lane selection |\n",
    "| `jng` | `varchar(255)` | Lineup - top lane selection |\n",
    "| `mid` | `varchar(255)` | Lineup - jungle selection |\n",
    "| `cpt` | `varchar(255)` | Lineup - mid lane selection |\n",
    "| `adc` | `varchar(255)` | Lineup - adc selection |\n",
    "| `sup` | `varchar(255)` | Lineup - support selection |\n"
   ]
  },
  {
   "cell_type": "markdown",
   "metadata": {},
   "source": [
    "#### player_payout"
   ]
  },
  {
   "cell_type": "markdown",
   "metadata": {},
   "source": [
    "| Column | Type | Description |\n",
    "| ------ | ---- | ----------- |\n",
    "| `contestid` | `int` | The identifier of a contest.  This is a foreign key to the contest table |\n",
    "| `entryid` | `int` | Primary Key.  Lineup id of the contest. |\n",
    "| `player` | `varchar(255)` | The name of the player or user that entered the contest |\n",
    "| `rank` | `varchar(255)` | The position that this contest finished in |\n",
    "| `entryfee` | `varchar(255)` | Entry fee paid for this contest |\n",
    "| `prize` | `varchar(255)` | The reward for this contest entry |"
   ]
  },
  {
   "cell_type": "markdown",
   "metadata": {},
   "source": [
    "## Other Scenarios"
   ]
  },
  {
   "cell_type": "markdown",
   "metadata": {},
   "source": [
    "* The data was increased by 100x.\n",
    "    * Use spark to run the data cleaning process.  Spark enables the data flow process to be run on multiple machines in a distributed way (eg. on AWS EMR)\n",
    "* The pipelines would be run on a daily basis by 7 am every day.\n",
    "    * The data pipeline can be automated by being deployed on Apache Airflow.  A dag can then be created to run at 7am everyday.\n",
    "* The database needed to be accessed by 100+ people.\n",
    "    * The database is currently deployed on Amazon Redshift cluster, and can be accessed by large number of users"
   ]
  },
  {
   "cell_type": "code",
   "execution_count": null,
   "metadata": {},
   "outputs": [],
   "source": []
  }
 ],
 "metadata": {
  "kernelspec": {
   "display_name": "Python 3",
   "language": "python",
   "name": "python3"
  },
  "language_info": {
   "codemirror_mode": {
    "name": "ipython",
    "version": 3
   },
   "file_extension": ".py",
   "mimetype": "text/x-python",
   "name": "python",
   "nbconvert_exporter": "python",
   "pygments_lexer": "ipython3",
   "version": "3.7.6"
  }
 },
 "nbformat": 4,
 "nbformat_minor": 4
}
