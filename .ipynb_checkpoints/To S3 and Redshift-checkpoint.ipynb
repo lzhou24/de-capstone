{
 "cells": [
  {
   "cell_type": "code",
   "execution_count": 1,
   "metadata": {},
   "outputs": [],
   "source": [
    "import pandas as pd\n",
    "import numpy as np\n",
    "import boto3\n",
    "import requests\n",
    "import json\n",
    "from pathlib import Path\n",
    "from datetime import datetime\n",
    "from dateutil import tz\n",
    "import random\n",
    "from time import sleep\n",
    "import configparser\n",
    "import psycopg2\n",
    "import pickle"
   ]
  },
  {
   "cell_type": "code",
   "execution_count": 2,
   "metadata": {},
   "outputs": [],
   "source": [
    "import sql_statements"
   ]
  },
  {
   "cell_type": "code",
   "execution_count": 3,
   "metadata": {},
   "outputs": [
    {
     "data": {
      "text/plain": [
       "['dwh.cfg']"
      ]
     },
     "execution_count": 3,
     "metadata": {},
     "output_type": "execute_result"
    }
   ],
   "source": [
    "config = configparser.ConfigParser()\n",
    "config.read('dwh.cfg')"
   ]
  },
  {
   "cell_type": "markdown",
   "metadata": {},
   "source": [
    "### Get Contests Required"
   ]
  },
  {
   "cell_type": "raw",
   "metadata": {},
   "source": [
    "from storage.db import db\n",
    "from storage import schema\n",
    "db_object = db()\n",
    "contest_ids = db_object.execute_query(query = 'SELECT distinct contestid FROM lol.contest_entry').fetchall()\n",
    "with open('contest_ids.txt', 'w') as f:\n",
    "    for contest_id in contest_ids:\n",
    "        f.write(\"%s\\n\" % contest_id[0])"
   ]
  },
  {
   "cell_type": "markdown",
   "metadata": {},
   "source": [
    "### Download Contest JSON and Upload to S3"
   ]
  },
  {
   "cell_type": "raw",
   "metadata": {},
   "source": [
    "with open('contest_ids.txt', 'r') as f:\n",
    "     contest_list = [line.strip() for line in f]"
   ]
  },
  {
   "cell_type": "code",
   "execution_count": 4,
   "metadata": {},
   "outputs": [],
   "source": [
    "s3 = boto3.resource('s3', \n",
    "                    aws_access_key_id = config['S3']['AWS_ACCESS_KEY_ID'], \n",
    "                    aws_secret_access_key = config['S3']['AWS_SECRET_ACCESS_KEY'])\n",
    "s3_client = boto3.client('s3', \n",
    "                    aws_access_key_id = config['S3']['AWS_ACCESS_KEY_ID'], \n",
    "                    aws_secret_access_key = config['S3']['AWS_SECRET_ACCESS_KEY'])"
   ]
  },
  {
   "cell_type": "raw",
   "metadata": {},
   "source": [
    "#Contest Level Data\n",
    "\n",
    "for contest_id in contest_list:\n",
    "    response = requests.get('https://api.draftkings.com/contests/v1/contests/{}'.format(contest_id), params={'format': 'json'})\n",
    "    response_type = response.headers['Content-Type']\n",
    "    json_data = json.loads(response.text)\n",
    "    \n",
    "    s3object = s3.Object('luz24', 'dailyfantasy_lol/contests/contest_{}.json'.format(contest_id))\n",
    "    s3object.put(Body=(bytes(json.dumps(json_data).encode('UTF-8'))))\n",
    "    \n",
    "    "
   ]
  },
  {
   "cell_type": "markdown",
   "metadata": {},
   "source": [
    "### Get Payout Data and Upload to S3"
   ]
  },
  {
   "cell_type": "raw",
   "metadata": {},
   "source": [
    "#for contest_id in contest_list:\n",
    "for contest_id in contest_list:\n",
    "    response = requests.get('https://api.draftkings.com/contests/v1/contests/{}'.format(contest_id), params={'format': 'json'})\n",
    "    response_type = response.headers['Content-Type']\n",
    "    json_data = json.loads(response.text)\n",
    "    \n",
    "    try:\n",
    "        \n",
    "        for payout in json_data['contestDetail']['payoutSummary']:\n",
    "            for rank in range(payout['minPosition'], payout['maxPosition']+1):\n",
    "                prize_dict = {\n",
    "                    'contestid': json_data['contestDetail']['contestKey'],\n",
    "                    'rank': rank,\n",
    "                    'prize': float(payout['tierPayoutDescriptions']['Cash'].strip('$').replace(',', ''))\n",
    "                }\n",
    "                with open('payout_temp.json', 'a') as outfile:\n",
    "                    json.dump(prize_dict, outfile)\n",
    "    except:\n",
    "        #print(contest_id)\n",
    "        pass"
   ]
  },
  {
   "cell_type": "raw",
   "metadata": {},
   "source": [
    "filename = 'payout_temp.json'\n",
    "bucket = 'luz24'\n",
    "key = 'dailyfantasy_lol/payout/payout.json'#.format(json_data['contestDetail']['contestKey'])\n",
    "s3_client.upload_file(filename, bucket, key)"
   ]
  },
  {
   "cell_type": "markdown",
   "metadata": {},
   "source": [
    "### Connection to Redshift"
   ]
  },
  {
   "cell_type": "code",
   "execution_count": 5,
   "metadata": {},
   "outputs": [],
   "source": [
    "conn = psycopg2.connect(\"host={} dbname={} user={} password={} port={}\".format(*config['CLUSTER'].values()))"
   ]
  },
  {
   "cell_type": "code",
   "execution_count": 6,
   "metadata": {},
   "outputs": [],
   "source": [
    "cur = conn.cursor()"
   ]
  },
  {
   "cell_type": "markdown",
   "metadata": {},
   "source": [
    "### Contest"
   ]
  },
  {
   "cell_type": "code",
   "execution_count": null,
   "metadata": {},
   "outputs": [],
   "source": [
    "#CREATE Table\n",
    "cur.execute(sql_statements.contest_table_create)\n",
    "conn.commit()\n",
    "\n",
    "#Upload to Table\n",
    "cur.execute(sql_statements.contest_table_copy)\n",
    "conn.commit()"
   ]
  },
  {
   "cell_type": "markdown",
   "metadata": {},
   "source": [
    "### Payout Table "
   ]
  },
  {
   "cell_type": "code",
   "execution_count": 7,
   "metadata": {},
   "outputs": [],
   "source": [
    "cur.execute(sql_statements.payout_table_create)\n",
    "conn.commit()"
   ]
  },
  {
   "cell_type": "code",
   "execution_count": 8,
   "metadata": {},
   "outputs": [],
   "source": [
    "cur.execute(sql_statements.payout_table_copy)\n",
    "conn.commit()"
   ]
  },
  {
   "cell_type": "markdown",
   "metadata": {},
   "source": [
    "###  Contest Entry"
   ]
  },
  {
   "cell_type": "code",
   "execution_count": 9,
   "metadata": {},
   "outputs": [],
   "source": [
    "import awswrangler as wr"
   ]
  },
  {
   "cell_type": "code",
   "execution_count": null,
   "metadata": {},
   "outputs": [],
   "source": [
    "entry_cols = ['contestid', 'ï»¿Rank', 'EntryId', 'EntryName', 'TimeRemaining', 'Points','Lineup']\n",
    "ownership_cols = ['Player\tRoster Position\t%Drafted\tFPTS']"
   ]
  },
  {
   "cell_type": "code",
   "execution_count": 27,
   "metadata": {},
   "outputs": [],
   "source": [
    "contest_entries = wr.s3.list_objects(\"s3://luz24/dailyfantasy_lol/contest_results/\")"
   ]
  },
  {
   "cell_type": "code",
   "execution_count": 38,
   "metadata": {},
   "outputs": [],
   "source": [
    "df = wr.s3.read_csv(\n",
    "    path = contest_entries[1]\n",
    ")"
   ]
  },
  {
   "cell_type": "code",
   "execution_count": 63,
   "metadata": {},
   "outputs": [
    {
     "data": {
      "text/html": [
       "<div>\n",
       "<style scoped>\n",
       "    .dataframe tbody tr th:only-of-type {\n",
       "        vertical-align: middle;\n",
       "    }\n",
       "\n",
       "    .dataframe tbody tr th {\n",
       "        vertical-align: top;\n",
       "    }\n",
       "\n",
       "    .dataframe thead th {\n",
       "        text-align: right;\n",
       "    }\n",
       "</style>\n",
       "<table border=\"1\" class=\"dataframe\">\n",
       "  <thead>\n",
       "    <tr style=\"text-align: right;\">\n",
       "      <th></th>\n",
       "      <th>ï»¿Rank</th>\n",
       "      <th>EntryId</th>\n",
       "      <th>EntryName</th>\n",
       "      <th>TimeRemaining</th>\n",
       "      <th>Points</th>\n",
       "      <th>Lineup</th>\n",
       "    </tr>\n",
       "  </thead>\n",
       "  <tbody>\n",
       "    <tr>\n",
       "      <th>0</th>\n",
       "      <td>1</td>\n",
       "      <td>2474488097</td>\n",
       "      <td>mon3ymoss (33/35)</td>\n",
       "      <td>0</td>\n",
       "      <td>625.010000</td>\n",
       "      <td>TOP  TheShy MID  Shanks SUP  Missing JNG  XUN ...</td>\n",
       "    </tr>\n",
       "    <tr>\n",
       "      <th>1</th>\n",
       "      <td>1</td>\n",
       "      <td>2474778376</td>\n",
       "      <td>PaulusCarolus (14/25)</td>\n",
       "      <td>0</td>\n",
       "      <td>625.010000</td>\n",
       "      <td>TOP  TheShy MID  Shanks SUP  Missing JNG  XUN ...</td>\n",
       "    </tr>\n",
       "    <tr>\n",
       "      <th>2</th>\n",
       "      <td>3</td>\n",
       "      <td>2473293432</td>\n",
       "      <td>Durrrrfan24 (1/2)</td>\n",
       "      <td>0</td>\n",
       "      <td>623.730000</td>\n",
       "      <td>TOP  TheShy MID  Shanks SUP  Baolan JNG  XUN A...</td>\n",
       "    </tr>\n",
       "    <tr>\n",
       "      <th>3</th>\n",
       "      <td>3</td>\n",
       "      <td>2474198150</td>\n",
       "      <td>giantsquid (8/25)</td>\n",
       "      <td>0</td>\n",
       "      <td>623.730000</td>\n",
       "      <td>TOP  TheShy MID  Shanks SUP  Baolan JNG  XUN A...</td>\n",
       "    </tr>\n",
       "    <tr>\n",
       "      <th>4</th>\n",
       "      <td>3</td>\n",
       "      <td>2474220617</td>\n",
       "      <td>mrcse13 (47/73)</td>\n",
       "      <td>0</td>\n",
       "      <td>623.730000</td>\n",
       "      <td>TOP  TheShy MID  Shanks SUP  Baolan JNG  XUN A...</td>\n",
       "    </tr>\n",
       "    <tr>\n",
       "      <th>...</th>\n",
       "      <td>...</td>\n",
       "      <td>...</td>\n",
       "      <td>...</td>\n",
       "      <td>...</td>\n",
       "      <td>...</td>\n",
       "      <td>...</td>\n",
       "    </tr>\n",
       "    <tr>\n",
       "      <th>2445</th>\n",
       "      <td>2446</td>\n",
       "      <td>2475435468</td>\n",
       "      <td>Nellyvillebombers</td>\n",
       "      <td>0</td>\n",
       "      <td>112.020004</td>\n",
       "      <td>TOP  Zoom MID  xiye SUP  QiuQiu JNG  Kanavi AD...</td>\n",
       "    </tr>\n",
       "    <tr>\n",
       "      <th>2446</th>\n",
       "      <td>2447</td>\n",
       "      <td>2475345028</td>\n",
       "      <td>racerx0926</td>\n",
       "      <td>0</td>\n",
       "      <td>111.260000</td>\n",
       "      <td>TOP  Zoom MID  Forge SUP  LvMao JNG  Haro ADC ...</td>\n",
       "    </tr>\n",
       "    <tr>\n",
       "      <th>2447</th>\n",
       "      <td>2448</td>\n",
       "      <td>2474201055</td>\n",
       "      <td>sonic999</td>\n",
       "      <td>0</td>\n",
       "      <td>110.440000</td>\n",
       "      <td>TOP  Zoom MID  xiye SUP  LvMao JNG  Haro ADC  ...</td>\n",
       "    </tr>\n",
       "    <tr>\n",
       "      <th>2448</th>\n",
       "      <td>2449</td>\n",
       "      <td>2474971752</td>\n",
       "      <td>luisp7</td>\n",
       "      <td>0</td>\n",
       "      <td>101.660000</td>\n",
       "      <td>TOP  Zoom MID  Forge SUP  LvMao JNG  Kanavi AD...</td>\n",
       "    </tr>\n",
       "    <tr>\n",
       "      <th>2449</th>\n",
       "      <td>2450</td>\n",
       "      <td>2474819952</td>\n",
       "      <td>benweeeaver</td>\n",
       "      <td>0</td>\n",
       "      <td>0.000000</td>\n",
       "      <td>NaN</td>\n",
       "    </tr>\n",
       "  </tbody>\n",
       "</table>\n",
       "<p>2450 rows × 6 columns</p>\n",
       "</div>"
      ],
      "text/plain": [
       "      ï»¿Rank     EntryId              EntryName  TimeRemaining      Points  \\\n",
       "0           1  2474488097      mon3ymoss (33/35)              0  625.010000   \n",
       "1           1  2474778376  PaulusCarolus (14/25)              0  625.010000   \n",
       "2           3  2473293432      Durrrrfan24 (1/2)              0  623.730000   \n",
       "3           3  2474198150      giantsquid (8/25)              0  623.730000   \n",
       "4           3  2474220617        mrcse13 (47/73)              0  623.730000   \n",
       "...       ...         ...                    ...            ...         ...   \n",
       "2445     2446  2475435468      Nellyvillebombers              0  112.020004   \n",
       "2446     2447  2475345028             racerx0926              0  111.260000   \n",
       "2447     2448  2474201055               sonic999              0  110.440000   \n",
       "2448     2449  2474971752                 luisp7              0  101.660000   \n",
       "2449     2450  2474819952            benweeeaver              0    0.000000   \n",
       "\n",
       "                                                 Lineup  \n",
       "0     TOP  TheShy MID  Shanks SUP  Missing JNG  XUN ...  \n",
       "1     TOP  TheShy MID  Shanks SUP  Missing JNG  XUN ...  \n",
       "2     TOP  TheShy MID  Shanks SUP  Baolan JNG  XUN A...  \n",
       "3     TOP  TheShy MID  Shanks SUP  Baolan JNG  XUN A...  \n",
       "4     TOP  TheShy MID  Shanks SUP  Baolan JNG  XUN A...  \n",
       "...                                                 ...  \n",
       "2445  TOP  Zoom MID  xiye SUP  QiuQiu JNG  Kanavi AD...  \n",
       "2446  TOP  Zoom MID  Forge SUP  LvMao JNG  Haro ADC ...  \n",
       "2447  TOP  Zoom MID  xiye SUP  LvMao JNG  Haro ADC  ...  \n",
       "2448  TOP  Zoom MID  Forge SUP  LvMao JNG  Kanavi AD...  \n",
       "2449                                                NaN  \n",
       "\n",
       "[2450 rows x 6 columns]"
      ]
     },
     "execution_count": 63,
     "metadata": {},
     "output_type": "execute_result"
    }
   ],
   "source": [
    "df.iloc[:, :6]"
   ]
  },
  {
   "cell_type": "code",
   "execution_count": 55,
   "metadata": {},
   "outputs": [
    {
     "data": {
      "text/plain": [
       "'s3://luz24/dailyfantasy_lol/contest_results/contest-standings-100796968.csv'"
      ]
     },
     "execution_count": 55,
     "metadata": {},
     "output_type": "execute_result"
    }
   ],
   "source": [
    "contest_entries[1]"
   ]
  },
  {
   "cell_type": "code",
   "execution_count": 40,
   "metadata": {},
   "outputs": [
    {
     "data": {
      "text/plain": [
       "100796968"
      ]
     },
     "execution_count": 40,
     "metadata": {},
     "output_type": "execute_result"
    }
   ],
   "source": [
    "contest_id = int(str(contest_entries[1]).split('.')[0].split('-')[2])\n",
    "contest_id"
   ]
  },
  {
   "cell_type": "code",
   "execution_count": 64,
   "metadata": {},
   "outputs": [],
   "source": [
    "contest_entry_df = df.iloc[:, :6]"
   ]
  },
  {
   "cell_type": "code",
   "execution_count": 65,
   "metadata": {},
   "outputs": [],
   "source": [
    "contest_entry_df.insert(0, 'contestid', contest_id)"
   ]
  },
  {
   "cell_type": "code",
   "execution_count": null,
   "metadata": {
    "collapsed": true
   },
   "outputs": [],
   "source": [
    "aws."
   ]
  }
 ],
 "metadata": {
  "kernelspec": {
   "display_name": "Python 3",
   "language": "python",
   "name": "python3"
  },
  "language_info": {
   "codemirror_mode": {
    "name": "ipython",
    "version": 3
   },
   "file_extension": ".py",
   "mimetype": "text/x-python",
   "name": "python",
   "nbconvert_exporter": "python",
   "pygments_lexer": "ipython3",
   "version": "3.7.6"
  }
 },
 "nbformat": 4,
 "nbformat_minor": 4
}
